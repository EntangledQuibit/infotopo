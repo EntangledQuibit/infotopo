{
 "metadata": {
  "name": "",
  "signature": "sha256:53ac3cba98dfe9c5ab20ae048f5cd06021cb0f39a62764a36e51415df2e9651c"
 },
 "nbformat": 3,
 "nbformat_minor": 0,
 "worksheets": [
  {
   "cells": [
    {
     "cell_type": "code",
     "collapsed": false,
     "input": [
      "import numpy as np\n",
      "from matplotlib.mlab import PCA\n",
      "import matplotlib.pyplot as plt\n",
      "import mpl_toolkits.mplot3d.axes3d as p3\n",
      "from mpl_toolkits.mplot3d import proj3d\n",
      "\n",
      "fs = [lambda k1,k2:2/(1/k1+1/k2), lambda k1,k2:2/(2/k1+1/k2), lambda k1,k2:2/(1/k1+2/k2)]\n",
      "#gs = [lambda k1:2/(1/k1), lambda k1:2/(2/k1), lambda k1:2/(1/k1)]\n",
      "\n",
      "# make parameter grid\n",
      "k1s, k2s = np.logspace(-1,2,100), np.logspace(-1,1,100)\n",
      "k1ss, k2ss = np.meshgrid(k1s, k2s)\n",
      "\n",
      "# generate points for data manifold\n",
      "ys = [f(k1ss, k2ss) for f in fs]\n",
      "#yrs = [g(k1ss) for g in gs]\n",
      "\n",
      "fig = plt.figure()\n",
      "ax = fig.gca(projection='3d')\n",
      "ax.set_aspect(\"equal\")\n",
      "ax.plot_surface(*ys, color='b', alpha=0.5, \n",
      "                shade=False, edgecolor='none')\n",
      "ax.set_xlabel('J(wildtype)')\n",
      "ax.set_ylabel('J(perturb R1)')\n",
      "ax.set_zlabel('J(perturb R2)')\n",
      "\n",
      "pt1 = [[f(9.11162756,5.21400829)] for f in fs]\n",
      "pt2 = [[f(0.5,5)] for f in fs]\n",
      "ax.scatter(*pt1, c='r', marker='o')\n",
      "ax.scatter(*pt2, c='g', marker='o')\n",
      "#ax.scatter(*yrs, c='k', marker='.')\n",
      "\n",
      "plt.show()\n"
     ],
     "language": "python",
     "metadata": {},
     "outputs": [],
     "prompt_number": 14
    },
    {
     "cell_type": "code",
     "collapsed": false,
     "input": [
      "k1s"
     ],
     "language": "python",
     "metadata": {},
     "outputs": [
      {
       "metadata": {},
       "output_type": "pyout",
       "prompt_number": 5,
       "text": [
        "array([  0.1       ,   0.10476158,   0.10974988,   0.1149757 ,\n",
        "         0.12045035,   0.12618569,   0.13219411,   0.13848864,\n",
        "         0.14508288,   0.15199111,   0.15922828,   0.16681005,\n",
        "         0.17475284,   0.18307383,   0.19179103,   0.2009233 ,\n",
        "         0.21049041,   0.22051307,   0.23101297,   0.24201283,\n",
        "         0.25353645,   0.26560878,   0.27825594,   0.29150531,\n",
        "         0.30538555,   0.31992671,   0.33516027,   0.35111917,\n",
        "         0.36783798,   0.38535286,   0.40370173,   0.42292429,\n",
        "         0.44306215,   0.46415888,   0.48626016,   0.5094138 ,\n",
        "         0.53366992,   0.55908102,   0.58570208,   0.61359073,\n",
        "         0.64280731,   0.67341507,   0.70548023,   0.7390722 ,\n",
        "         0.77426368,   0.81113083,   0.84975344,   0.89021509,\n",
        "         0.93260335,   0.97700996,   1.02353102,   1.07226722,\n",
        "         1.12332403,   1.17681195,   1.23284674,   1.29154967,\n",
        "         1.35304777,   1.41747416,   1.48496826,   1.55567614,\n",
        "         1.62975083,   1.70735265,   1.78864953,   1.87381742,\n",
        "         1.96304065,   2.05651231,   2.15443469,   2.25701972,\n",
        "         2.36448941,   2.47707636,   2.59502421,   2.71858824,\n",
        "         2.84803587,   2.98364724,   3.12571585,   3.27454916,\n",
        "         3.43046929,   3.59381366,   3.76493581,   3.94420606,\n",
        "         4.1320124 ,   4.32876128,   4.53487851,   4.75081016,\n",
        "         4.97702356,   5.21400829,   5.46227722,   5.72236766,\n",
        "         5.9948425 ,   6.28029144,   6.57933225,   6.8926121 ,\n",
        "         7.22080902,   7.56463328,   7.92482898,   8.30217568,\n",
        "         8.69749003,   9.11162756,   9.54548457,  10.        ])"
       ]
      }
     ],
     "prompt_number": 5
    },
    {
     "cell_type": "code",
     "collapsed": false,
     "input": [
      "len(yrs)"
     ],
     "language": "python",
     "metadata": {},
     "outputs": [
      {
       "metadata": {},
       "output_type": "pyout",
       "prompt_number": 3,
       "text": [
        "3"
       ]
      }
     ],
     "prompt_number": 3
    },
    {
     "cell_type": "code",
     "collapsed": false,
     "input": [],
     "language": "python",
     "metadata": {},
     "outputs": []
    }
   ],
   "metadata": {}
  }
 ]
}