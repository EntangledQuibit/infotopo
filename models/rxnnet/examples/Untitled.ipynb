{
 "cells": [
  {
   "cell_type": "code",
   "execution_count": 1,
   "metadata": {
    "collapsed": true
   },
   "outputs": [],
   "source": [
    "%matplotlib inline \n",
    "from IPython.display import set_matplotlib_formats\n",
    "set_matplotlib_formats('png', 'pdf')\n",
    "\n",
    "from __future__ import division\n",
    "\n",
    "import numpy as np\n",
    "\n",
    "from util import plotutil\n",
    "\n",
    "from infotopo.models.rxnnet import experiments\n",
    "from infotopo.models.rxnnet.examples.toynets import path2mah as net"
   ]
  },
  {
   "cell_type": "code",
   "execution_count": 18,
   "metadata": {
    "collapsed": false
   },
   "outputs": [
    {
     "data": {
      "text/plain": [
       "infotopo.models.rxnnet.model.Network"
      ]
     },
     "execution_count": 18,
     "metadata": {},
     "output_type": "execute_result"
    }
   ],
   "source": [
    "from infotopo.models.rxnnet import model, ratelaw, experiments\n",
    "\n",
    "net = model.make_path([ratelaw.mah11]*2, cids=['C1','C2','KE1','KE2'])\n",
    "type(net)"
   ]
  },
  {
   "cell_type": "code",
   "execution_count": 19,
   "metadata": {
    "collapsed": false
   },
   "outputs": [
    {
     "data": {
      "text/plain": [
       "infotopo.models.rxnnet.experiments.Experiments"
      ]
     },
     "execution_count": 19,
     "metadata": {},
     "output_type": "execute_result"
    }
   ],
   "source": [
    "expts_xc = experiments.get_experiments(zids=net.xids, uids=['C1','C2'], us=[[2,1],[3,2]])\n",
    "type(expts_xc)"
   ]
  },
  {
   "cell_type": "code",
   "execution_count": 20,
   "metadata": {
    "collapsed": true
   },
   "outputs": [],
   "source": [
    "pred_xc = net.get_predict(expts_xc, tol=1e-13)"
   ]
  },
  {
   "cell_type": "code",
   "execution_count": 21,
   "metadata": {
    "collapsed": false
   },
   "outputs": [
    {
     "data": {
      "text/plain": [
       "infotopo.predict.Predict"
      ]
     },
     "execution_count": 21,
     "metadata": {},
     "output_type": "execute_result"
    }
   ],
   "source": [
    "type(pred_xc)"
   ]
  },
  {
   "cell_type": "code",
   "execution_count": 22,
   "metadata": {
    "collapsed": false
   },
   "outputs": [
    {
     "name": "stdout",
     "output_type": "stream",
     "text": [
      "['k1f', 'k2f']\n",
      "[\"(('C1', '=', 2), ('C2', '=', 1)), X, inf\", \"(('C1', '=', 3), ('C2', '=', 2)), X, inf\"]\n"
     ]
    }
   ],
   "source": [
    "print pred_xc.pids\n",
    "print pred_xc.yids"
   ]
  },
  {
   "cell_type": "code",
   "execution_count": null,
   "metadata": {
    "collapsed": true
   },
   "outputs": [],
   "source": []
  },
  {
   "cell_type": "code",
   "execution_count": 11,
   "metadata": {
    "collapsed": false
   },
   "outputs": [
    {
     "name": "stdout",
     "output_type": "stream",
     "text": [
      "R1    k1f*(C1 - X/KE1)\n",
      "R2    k2f*(X - C2/KE2)\n",
      "dtype: object\n",
      "k1f    1\n",
      "k2f    1\n",
      "dtype: float64\n",
      "KE1    1\n",
      "KE2    1\n",
      "dtype: float64\n"
     ]
    }
   ],
   "source": [
    "print net.ratelaws\n",
    "print net.p\n",
    "print net.c"
   ]
  },
  {
   "cell_type": "code",
   "execution_count": 2,
   "metadata": {
    "collapsed": true
   },
   "outputs": [],
   "source": [
    "expts_xc = experiments.get_experiments(net.xids, uids=['C1','C2'], us=[[2,1],[3,2]])\n",
    "expts_jc = experiments.get_experiments(net.Jids[0], uids=['C1','C2'], us=[[2,1]])\n",
    "expts_xt = experiments.get_experiments(net.xids, uids=['t'], us=[1])"
   ]
  },
  {
   "cell_type": "code",
   "execution_count": 4,
   "metadata": {
    "collapsed": true
   },
   "outputs": [],
   "source": [
    "pred_xc = net.get_predict(expts_xc, tol=1e-13)\n",
    "pred_jc = net.get_predict(expts_jc, tol=1e-13)\n",
    "pred_xt = net.get_predict(expts_xt, tol=1e-13)"
   ]
  },
  {
   "cell_type": "code",
   "execution_count": 5,
   "metadata": {
    "collapsed": false
   },
   "outputs": [
    {
     "data": {
      "text/plain": [
       "array([  6.12237857e-01,   7.23372631e-17])"
      ]
     },
     "execution_count": 5,
     "metadata": {},
     "output_type": "execute_result"
    }
   ],
   "source": [
    "pred_xc.get_spectrum(pred_xc.p0.randomize())"
   ]
  },
  {
   "cell_type": "code",
   "execution_count": 6,
   "metadata": {
    "collapsed": false
   },
   "outputs": [
    {
     "data": {
      "application/pdf": "[encoded data removed]",
      "image/png": "[encoded data removed]",
      "text/plain": [
       "<matplotlib.figure.Figure at 0x114330190>"
      ]
     },
     "metadata": {},
     "output_type": "display_data"
    }
   ],
   "source": [
    "pred_xc.plot_spectra([pred_xc.p0.randomize(seed=i) for i in range(5)], figsize=(6,3))"
   ]
  },
  {
   "cell_type": "code",
   "execution_count": 23,
   "metadata": {
    "collapsed": true
   },
   "outputs": [],
   "source": [
    "pred = pred_xc + pred_xt"
   ]
  },
  {
   "cell_type": "code",
   "execution_count": 26,
   "metadata": {
    "collapsed": false
   },
   "outputs": [
    {
     "data": {
      "text/plain": [
       "array([ 0.66849315,  0.01431124])"
      ]
     },
     "execution_count": 26,
     "metadata": {},
     "output_type": "execute_result"
    }
   ],
   "source": [
    "pred.get_spectrum(pred.p0.randomize())"
   ]
  },
  {
   "cell_type": "code",
   "execution_count": 29,
   "metadata": {
    "collapsed": true
   },
   "outputs": [],
   "source": [
    "gdss = pred.get_geodesics(seeds=[2])"
   ]
  },
  {
   "cell_type": "code",
   "execution_count": 30,
   "metadata": {
    "collapsed": false
   },
   "outputs": [
    {
     "name": "stdout",
     "output_type": "stream",
     "text": [
      "(2, (-1, True))\n",
      "(2, (-1, False))\n",
      "(2, (-2, True))\n",
      "(2, (-2, False))\n"
     ]
    },
    {
     "name": "stderr",
     "output_type": "stream",
     "text": [
      "/Library/Python/2.7/site-packages/scipy/integrate/_ode.py:869: UserWarning: vode: Excess work done on this call. (Perhaps wrong MF.)\n",
      "  'Unexpected istate=%s' % istate))\n"
     ]
    }
   ],
   "source": [
    "gdss.integrate(tmax=10, dt=0.1)"
   ]
  },
  {
   "cell_type": "code",
   "execution_count": null,
   "metadata": {
    "collapsed": true
   },
   "outputs": [],
   "source": []
  }
 ],
 "metadata": {
  "kernelspec": {
   "display_name": "Python 2",
   "language": "python",
   "name": "python2"
  },
  "language_info": {
   "codemirror_mode": {
    "name": "ipython",
    "version": 2
   },
   "file_extension": ".py",
   "mimetype": "text/x-python",
   "name": "python",
   "nbconvert_exporter": "python",
   "pygments_lexer": "ipython2",
   "version": "2.7.10"
  }
 },
 "nbformat": 4,
 "nbformat_minor": 0
}
