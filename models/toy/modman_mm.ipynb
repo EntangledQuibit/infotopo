{
 "metadata": {
  "name": "",
  "signature": "sha256:24a2cd7aeb62262f1accc537cfc08ad856b60b87b5db60dc7994442efe270413"
 },
 "nbformat": 3,
 "nbformat_minor": 0,
 "worksheets": [
  {
   "cells": [
    {
     "cell_type": "code",
     "collapsed": false,
     "input": [
      "from SloppyCell.ReactionNetworks import *\n",
      "\n",
      "V, K, T = 1, 1, 0.5\n",
      "\n",
      "net = Network('net')\n",
      "net.add_compartment('cell')\n",
      "net.add_parameter('V', V)\n",
      "net.add_parameter('K', K)\n",
      "net.add_parameter('T', T, is_optimizable=False)\n",
      "net.add_species('A1', 'cell', 'T')\n",
      "net.add_species('A2', 'cell', 0)\n",
      "net.addReaction('R', {'A1':-1, 'A2':1}, kineticLaw='V*A1/(K+A1)')\n",
      "pids = net.optimizableVars.keys()\n",
      "pvals = [p.value for p in net.optimizableVars]\n",
      "net.compile()"
     ],
     "language": "python",
     "metadata": {},
     "outputs": [],
     "prompt_number": 1
    },
    {
     "cell_type": "code",
     "collapsed": false,
     "input": [
      "traj = Dynamics.integrate(net, [0,5])\n",
      "times, A1s_sc = traj.timepoints, traj.get_var_traj('A1')"
     ],
     "language": "python",
     "metadata": {},
     "outputs": [],
     "prompt_number": 2
    },
    {
     "cell_type": "code",
     "collapsed": false,
     "input": [
      "import scipy as sp\n",
      "import numpy as np\n",
      "\n",
      "A1s_lambertw = K*sp.special.lambertw(sp.exp((T-V*times)/K)*T/K)"
     ],
     "language": "python",
     "metadata": {},
     "outputs": [],
     "prompt_number": 3
    },
    {
     "cell_type": "code",
     "collapsed": false,
     "input": [
      "import matplotlib.pyplot as plt\n",
      "\n",
      "fig = plt.figure()\n",
      "ax = fig.add_subplot(211)\n",
      "ax.plot(times, A1s_sc)\n",
      "ax.plot(times, A1s_lambertw)\n",
      "ax.set_xlabel(r'$t$')\n",
      "ax.set_ylabel(r'$A_1(t)$')\n",
      "\n",
      "ax = fig.add_subplot(212)\n",
      "ax.plot(times, A1s_sc - A1s_lambertw)\n",
      "ax.set_xlabel(r'$t$')\n",
      "ax.set_ylabel(r'$\\tilde{A}_1(t) - A_1(t)$')\n",
      "ax.ticklabel_format(style='sci', axis='y', scilimits=(0,0))\n",
      "\n",
      "plt.subplots_adjust(left=0.15)\n",
      "plt.show()"
     ],
     "language": "python",
     "metadata": {},
     "outputs": [],
     "prompt_number": 9
    },
    {
     "cell_type": "code",
     "collapsed": false,
     "input": [
      "def get_y_lambertw(t1,t2,t3):\n",
      "    \"\"\"\n",
      "    http://www.wolframalpha.com/input/?i=y%27%28t%29%3D-a+y%28t%29%2F%28b%2By%28t%29%29%2C+y%280%29%3DT\n",
      "    \"\"\" \n",
      "    def y(V, K):\n",
      "        y1 = K*sp.special.lambertw(sp.exp((T-V*t1)/K)*T/K)\n",
      "        y2 = K*sp.special.lambertw(sp.exp((T-V*t2)/K)*T/K)\n",
      "        y3 = K*sp.special.lambertw(sp.exp((T-V*t3)/K)*T/K)\n",
      "        return y1, y2, y3\n",
      "    \n",
      "    return y"
     ],
     "language": "python",
     "metadata": {},
     "outputs": [],
     "prompt_number": 5
    },
    {
     "cell_type": "code",
     "collapsed": false,
     "input": [
      "t1, t2, t3 = 0.9, 1, 1.1\n",
      "tau1, tau2, tau3 = 0.6, 3, 3\n",
      "f_y = get_y_lambertw(t1,t2,t3)\n",
      "f_z = get_y_lambertw(tau1,tau2,tau3)\n",
      "\n",
      "Vs = np.logspace(-3,3,200)\n",
      "Ks = np.logspace(-3,3,200)\n",
      "VV, KK = np.meshgrid(Vs, Ks)\n",
      "\n",
      "y1s, y2s, y3s = f_y(VV, KK)\n",
      "z1s, z2s, z3s = f_z(VV, KK)"
     ],
     "language": "python",
     "metadata": {},
     "outputs": [],
     "prompt_number": 7
    },
    {
     "cell_type": "code",
     "collapsed": false,
     "input": [
      "import pylab\n",
      "import mpl_toolkits.mplot3d.axes3d as p3\n",
      "\n",
      "fig = pylab.figure()\n",
      "ax = p3.Axes3D(fig)\n",
      "ax.plot_surface(y1s, y2s, y3s, color='b', alpha=0.2, shade=False)\n",
      "ax.plot_surface(z1s, z2s, z3s, color='g', alpha=0.2, shade=False)\n",
      "ax.set_xlabel(r'$y(t_1)$')\n",
      "ax.set_ylabel(r'$y(t_2)$')\n",
      "ax.set_zlabel(r'$y(t_3)$')\n",
      "ax.set_xlim(0,T)\n",
      "ax.set_ylim(0,T)\n",
      "ax.set_zlim(0,T)\n",
      "pylab.show()"
     ],
     "language": "python",
     "metadata": {},
     "outputs": []
    },
    {
     "cell_type": "code",
     "collapsed": false,
     "input": [
      "help(ax.plot_surface)"
     ],
     "language": "python",
     "metadata": {},
     "outputs": [
      {
       "output_type": "stream",
       "stream": "stdout",
       "text": [
        "Help on method plot_surface in module mpl_toolkits.mplot3d.axes3d:\n",
        "\n",
        "plot_surface(self, X, Y, Z, *args, **kwargs) method of mpl_toolkits.mplot3d.axes3d.Axes3D instance\n",
        "    Create a surface plot.\n",
        "    \n",
        "    By default it will be colored in shades of a solid color,\n",
        "    but it also supports color mapping by supplying the *cmap*\n",
        "    argument.\n",
        "    \n",
        "    ============= ================================================\n",
        "    Argument      Description\n",
        "    ============= ================================================\n",
        "    *X*, *Y*, *Z* Data values as 2D arrays\n",
        "    *rstride*     Array row stride (step size)\n",
        "    *cstride*     Array column stride (step size)\n",
        "    *color*       Color of the surface patches\n",
        "    *cmap*        A colormap for the surface patches.\n",
        "    *facecolors*  Face colors for the individual patches\n",
        "    *norm*        An instance of Normalize to map values to colors\n",
        "    *vmin*        Minimum value to map\n",
        "    *vmax*        Maximum value to map\n",
        "    *shade*       Whether to shade the facecolors\n",
        "    ============= ================================================\n",
        "    \n",
        "    Other arguments are passed on to\n",
        "    :class:`~mpl_toolkits.mplot3d.art3d.Poly3DCollection`\n",
        "\n"
       ]
      }
     ],
     "prompt_number": 13
    },
    {
     "cell_type": "code",
     "collapsed": false,
     "input": [
      "def get_y(ts):\n",
      "    \"\"\"\n",
      "    Return the function y that maps from parameter space to data space.\n",
      "    \n",
      "    Input:\n",
      "        ts: a list of three times\n",
      "    \n",
      "    Output:\n",
      "        y: function\n",
      "    \"\"\"\n",
      "    if 0 in ts or len(ts) != 3:\n",
      "        raise ValueError(\"input times has to be of length three and no zero\")\n",
      "        \n",
      "    def y(V, K):\n",
      "        net.update_optimizable_vars({'V':V, 'K':K})\n",
      "        traj = Dynamics.integrate(net, [0]+list(ts), fill_traj=False)\n",
      "        return traj.get_var_traj('A1')[1:]\n",
      "    \n",
      "    return y"
     ],
     "language": "python",
     "metadata": {},
     "outputs": [],
     "prompt_number": 8
    },
    {
     "cell_type": "code",
     "collapsed": false,
     "input": [
      "import numpy as np\n",
      "\n",
      "def plot_y(theta1s, theta2s, filepath=''):\n",
      "    \"\"\"\n",
      "    Plot the image of function y in R^3. \n",
      "    \n",
      "    Input:\n",
      "        theta1s and theta2s: parameter grid\n",
      "        filepath: if given, then save it.\n",
      "    \"\"\"\n",
      "    pass\n",
      "\n",
      "eps=1e-6\n",
      "ts = [0.6,3,3+eps]\n",
      "taus = [1,2,3]\n",
      "\n",
      "f_y = get_y(ts)\n",
      "f_y1 = np.vectorize(lambda V,K: f_y(V,K)[0])\n",
      "f_y2 = np.vectorize(lambda V,K: f_y(V,K)[1])\n",
      "f_y3 = np.vectorize(lambda V,K: f_y(V,K)[2])\n",
      "\n",
      "Vs = np.linspace(0.1,10,50)\n",
      "Ks = np.linspace(0.1,10,50)\n",
      "VV, KK = np.meshgrid(Vs, Ks)\n",
      "\n",
      "y1s, y2s, y3s = np.array([f_y(V,K) for (V,K) in zip(VV.flatten(), KK.flatten())]).T\n",
      "\n",
      "#y1s = f_y1(VV, KK)\n",
      "#y2s = f_y2(VV, KK)\n",
      "#y3s = f_y3(VV, KK)\n",
      "\n",
      "\"\"\"\n",
      "y1s, y2s, y3s = [np.zeros(VV.shape)] * 3\n",
      "\n",
      "xidxs, yidxs = np.indices(VV.shape)\n",
      "for xidx, yidx in zip(xidxs.flatten(), yidxs.flatten()):\n",
      "    V, K = VV[xidx, yidx], KK[xidx, yidx]\n",
      "    y1, y2, y3 = y(V, K)\n",
      "    y1s[xidx, yidx] = y1\n",
      "    y2s[xidx, yidx] = y2\n",
      "    y3s[xidx, yidx] = y3\n",
      "\"\"\"    "
     ],
     "language": "python",
     "metadata": {},
     "outputs": [
      {
       "metadata": {},
       "output_type": "pyout",
       "prompt_number": 11,
       "text": [
        "'\\ny1s, y2s, y3s = [np.zeros(VV.shape)] * 3\\n\\nxidxs, yidxs = np.indices(VV.shape)\\nfor xidx, yidx in zip(xidxs.flatten(), yidxs.flatten()):\\n    V, K = VV[xidx, yidx], KK[xidx, yidx]\\n    y1, y2, y3 = y(V, K)\\n    y1s[xidx, yidx] = y1\\n    y2s[xidx, yidx] = y2\\n    y3s[xidx, yidx] = y3\\n'"
       ]
      }
     ],
     "prompt_number": 11
    },
    {
     "cell_type": "code",
     "collapsed": false,
     "input": [
      "import pylab\n",
      "import mpl_toolkits.mplot3d.axes3d as p3\n",
      "\n",
      "fig = pylab.figure()\n",
      "ax = p3.Axes3D(fig)\n",
      "ax.plot_trisurf(y1s, y2s, y3s)\n",
      "ax.set_xlabel(r'$y(t_1)$')\n",
      "ax.set_ylabel(r'$y(t_2)$')\n",
      "ax.set_zlabel(r'$y(t_3)$')\n",
      "ax.set_xlim(0,1)\n",
      "ax.set_ylim(0,1)\n",
      "ax.set_zlim(0,1)\n",
      "pylab.show()"
     ],
     "language": "python",
     "metadata": {},
     "outputs": [],
     "prompt_number": 12
    },
    {
     "cell_type": "code",
     "collapsed": false,
     "input": [
      "print f_y(10,0.01)"
     ],
     "language": "python",
     "metadata": {},
     "outputs": [
      {
       "output_type": "stream",
       "stream": "stdout",
       "text": [
        "[ -1.81493013e-17  -1.76408869e-25  -1.76408788e-25]\n"
       ]
      }
     ],
     "prompt_number": 10
    },
    {
     "cell_type": "code",
     "collapsed": false,
     "input": [
      "import numpy as np\n",
      "import pylab as p\n",
      "#import matplotlib.axes3d as p3\n",
      "import mpl_toolkits.mplot3d.axes3d as p3\n",
      "\n",
      "def surf(u, v):\n",
      "    x = np.cos(v*np.pi*2) * (1 + 0.3*np.cos(30*u))\n",
      "    y = np.sin(v*np.pi*2) * (1 + 0.3*np.cos(30*u))\n",
      "    z = 2*u\n",
      "    return x, y, z\n",
      "\n",
      "ux, vx = np.meshgrid(np.linspace(0, 1, 20),\n",
      "                     np.linspace(0, 1, 20))\n",
      "x, y, z = surf(ux, vx)\n",
      "\n",
      "fig=p.figure()\n",
      "ax = p3.Axes3D(fig)\n",
      "ax.plot_surface(x,y,z)\n",
      "ax.set_xlabel('X')\n",
      "ax.set_ylabel('Y')\n",
      "ax.set_zlabel('Z')\n",
      "p.show()"
     ],
     "language": "python",
     "metadata": {},
     "outputs": [],
     "prompt_number": 1
    },
    {
     "cell_type": "code",
     "collapsed": false,
     "input": [
      "print x.shape"
     ],
     "language": "python",
     "metadata": {},
     "outputs": [
      {
       "output_type": "stream",
       "stream": "stdout",
       "text": [
        "(100, 100)\n"
       ]
      }
     ],
     "prompt_number": 48
    },
    {
     "cell_type": "code",
     "collapsed": false,
     "input": [],
     "language": "python",
     "metadata": {},
     "outputs": []
    }
   ],
   "metadata": {}
  }
 ]
}