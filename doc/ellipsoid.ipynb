{
 "cells": [
  {
   "cell_type": "markdown",
   "metadata": {},
   "source": [
    "$\\vec{y} = \\begin{pmatrix} x \\\\ y \\\\ z \\end{pmatrix} = f(\\vec{p}) = f \\left( \\begin{pmatrix} \\phi \\\\ \\theta \\end{pmatrix} \\right) = \\begin{pmatrix} a \\sin \\phi \\cos \\theta \\\\ b \\sin \\phi \\sin \\theta \\\\ c \\cos \\phi \\end{pmatrix}$\n",
    "\n",
    "<img src='http://www4c.wolframalpha.com/Calculate/MSP/MSP22911ciacb27a962182000006a956d4787hc1b3i?MSPStoreType=image/gif&s=1&w=151.&h=72.' />\n",
    "<img src='http://www4c.wolframalpha.com/Calculate/MSP/MSP22841ciacb27a962182000000d31bi4d51bd7524?MSPStoreType=image/gif&s=1&w=337.&h=90.' />\n",
    "<img src='http://www4c.wolframalpha.com/Calculate/MSP/MSP28221hc4fbh4e87bf6i1000026a9ghg3g32ba4bg?MSPStoreType=image/gif&s=50&w=449.&h=140.' />\n",
    "\n",
    "$􏰡dN \\begin{pmatrix}x\\\\y\\end{pmatrix} = \\begin{pmatrix} 􏰠a & b \\\\ c & d \\end{pmatrix} \\begin{pmatrix}x\\\\y\\end{pmatrix}$\n",
    "\n",
    "$\\begin{pmatrix} 􏰠a & b \\\\ c & d \\end{pmatrix} = \\frac{1}{EG-F^2} \\begin{pmatrix} MF-LG & NF-MG \\\\ LF-ME & MF-NE \\end{pmatrix}$\n",
    "\n",
    "$u = \\theta \\\\v = \\phi$"
   ]
  },
  {
   "cell_type": "code",
   "execution_count": 74,
   "metadata": {
    "collapsed": true
   },
   "outputs": [],
   "source": [
    "#%matplotlib inline\n",
    "#%config InlineBackend.figure_format = 'svg'\n",
    "\n",
    "from __future__ import division\n",
    "\n",
    "import numpy as np\n",
    "\n",
    "from util import plotutil\n",
    "\n",
    "from infotopo import predict\n",
    "\n",
    "\n",
    "sin, cos, sqrt, pi = np.sin, np.cos, np.sqrt, np.pi\n",
    "\n",
    "def get_S(a, b, c):\n",
    "    E = lambda u, v: sin(v)**2 * (a**2 * sin(u)**2 + b**2 * cos(u)**2)\n",
    "    F = lambda u, v: (b**2 - a**2) * sin(u) * cos(u) * sin(v) * cos(v)\n",
    "    G = lambda u, v: cos(v)**2 * (a**2 * cos(u)**2 + b**2 * sin(u)**2) + c**2 * sin(v)**2\n",
    "    D = lambda u, v: sqrt(a**2 * b**2 * cos(v)**2 + a**2 * c**2 * sin(u)**2 * sin(v)**2 + b**2 * c**2 * cos(u)**2 * sin(v)**2)\n",
    "    L = lambda u, v: a * b * c * sin(v)**2 / D(u,v)\n",
    "    M = lambda u, v: 0\n",
    "    N = lambda u, v: a * b * c / D(u,v)\n",
    "\n",
    "    gdet = lambda u, v: E(u,v) * G(u,v) - F(u,v)**2  # determinant of g\n",
    "    dN11 = lambda u, v: (M(u,v) * F(u,v) - L(u,v) * G(u,v)) / gdet(u,v)\n",
    "    dN12 = lambda u, v: (N(u,v) * F(u,v) - M(u,v) * G(u,v)) / gdet(u,v)\n",
    "    dN21 = lambda u, v: (L(u,v) * F(u,v) - M(u,v) * E(u,v)) / gdet(u,v)\n",
    "    dN22 = lambda u, v: (M(u,v) * F(u,v) - N(u,v) * E(u,v)) / gdet(u,v)\n",
    "\n",
    "    dN0 = lambda u, v: np.array([[dN11(u,v), dN12(u,v)], [dN21(u,v), dN22(u,v)]])\n",
    "\n",
    "    S = lambda ph, th: -dN0(th, ph)\n",
    "    return S"
   ]
  },
  {
   "cell_type": "code",
   "execution_count": 75,
   "metadata": {
    "collapsed": true
   },
   "outputs": [],
   "source": [
    "def get_predict(a, b, c):\n",
    "    def f(p):\n",
    "        ph, th = p\n",
    "        return np.array([a * sin(ph) * cos(th),\n",
    "                         b * sin(ph) * sin(th),\n",
    "                         c * cos(ph)])\n",
    "    def Df(p):\n",
    "        ph, th = p\n",
    "        return np.array([[a * cos(ph) * cos(th), -a * sin(ph) * sin(th)],\n",
    "                         [b * cos(ph) * sin(th), b * sin(ph) * cos(th)],\n",
    "                         [-c * sin(ph), 0]])\n",
    "    pred = predict.Predict(f=f, Df=Df, p0=[pi/2, 0], pids=['phi','theta'], yids=['x','y','z'])\n",
    "    return pred"
   ]
  },
  {
   "cell_type": "code",
   "execution_count": 76,
   "metadata": {
    "collapsed": false
   },
   "outputs": [],
   "source": [
    "a, b, c = 2, 1, 1\n",
    "\n",
    "S = get_S(a, b, c)\n",
    "pred = get_predict(a, b, c)\n",
    "\n",
    "pred.plot_image(np.linspace(0, pi, 31), np.linspace(0, 2*pi, 31), alpha=0.05, figsize=(8,8), \n",
    "                xyzlims=[[-2,2]]*3, xyzlabels=pred.yids,\n",
    "                pts=[pred(), pred((0,0)), pred((pi/2,0)), pred((pi,0))], \n",
    "                cs=['k', 'b', 'g', 'r'])\n"
   ]
  },
  {
   "cell_type": "code",
   "execution_count": 78,
   "metadata": {
    "collapsed": false
   },
   "outputs": [
    {
     "name": "stdout",
     "output_type": "stream",
     "text": [
      "[[ 0.59736944  0.51203095]\n",
      " [ 0.25601548  0.85338492]]\n",
      "[ 0.34135397  1.10940039]\n",
      "[[-0.89442719 -0.70710678]\n",
      " [ 0.4472136  -0.70710678]]\n"
     ]
    }
   ],
   "source": [
    "A = S(pi/4, pi/4)\n",
    "lams, vs = np.linalg.eig(A)\n",
    "print A\n",
    "print lams\n",
    "print vs"
   ]
  },
  {
   "cell_type": "code",
   "execution_count": 80,
   "metadata": {
    "collapsed": false
   },
   "outputs": [
    {
     "data": {
      "text/plain": [
       "0.099999999999999922"
      ]
     },
     "execution_count": 80,
     "metadata": {},
     "output_type": "execute_result"
    }
   ],
   "source": [
    "np.dot(vs[0], vs[1])"
   ]
  },
  {
   "cell_type": "markdown",
   "metadata": {},
   "source": [
    "For an ellipse parameterized by $\\langle a \\cos t, b \\sin t \\rangle$, its curvature is:\n",
    "\n",
    "$\\kappa(t) = ||\\frac{d \\hat{T}(t)/dt}{v}|| = \\frac{ab}{\\left(a^2 \\sin^2{t} + b^2 \\cos^2 t\\right)^{\\frac{3}{2}}}$\n",
    "\n",
    "See [here](http://math.stackexchange.com/questions/527538/how-to-calculate-the-curvature-of-an-ellipse) for a reference. "
   ]
  },
  {
   "cell_type": "code",
   "execution_count": 64,
   "metadata": {
    "collapsed": false
   },
   "outputs": [],
   "source": [
    "ts = np.linspace(0, 2*pi, 36)\n",
    "xys = np.array([(a*cos(t), b*sin(t)) for t in ts])\n",
    "\n",
    "plotutil.scatterplot(*xys.T, c=ts, cmap='jet', xylims=[[-2.5,2.5]]*2, s=30, figsize=(4,4), edgecolor='none')"
   ]
  },
  {
   "cell_type": "markdown",
   "metadata": {},
   "source": [
    "Verify the calculations: \n",
    "\n",
    "Here is a [reference](https://en.wikipedia.org/wiki/Radius_of_curvature_%28mathematics%29#Ellipses). "
   ]
  },
  {
   "cell_type": "code",
   "execution_count": 63,
   "metadata": {
    "collapsed": false
   },
   "outputs": [
    {
     "name": "stdout",
     "output_type": "stream",
     "text": [
      "2.0\n",
      "0.25\n"
     ]
    }
   ],
   "source": [
    "def get_ellipse_curvature(a, b, t):\n",
    "    return a * b / np.power(a**2 * sin(t)**2 + b**2 * cos(t)**2, 3/2)\n",
    "\n",
    "print get_ellipse_curvature(2,1,0)\n",
    "print get_ellipse_curvature(2,1,pi/2)"
   ]
  },
  {
   "cell_type": "code",
   "execution_count": 58,
   "metadata": {
    "collapsed": true
   },
   "outputs": [],
   "source": []
  },
  {
   "cell_type": "code",
   "execution_count": 65,
   "metadata": {
    "collapsed": true
   },
   "outputs": [],
   "source": []
  },
  {
   "cell_type": "code",
   "execution_count": null,
   "metadata": {
    "collapsed": true
   },
   "outputs": [],
   "source": []
  }
 ],
 "metadata": {
  "kernelspec": {
   "display_name": "Python 2",
   "language": "python",
   "name": "python2"
  },
  "language_info": {
   "codemirror_mode": {
    "name": "ipython",
    "version": 2
   },
   "file_extension": ".py",
   "mimetype": "text/x-python",
   "name": "python",
   "nbconvert_exporter": "python",
   "pygments_lexer": "ipython2",
   "version": "2.7.10"
  }
 },
 "nbformat": 4,
 "nbformat_minor": 0
}
